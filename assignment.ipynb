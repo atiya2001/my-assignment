{
  "metadata": {
    "kernelspec": {
      "name": "python",
      "display_name": "Python (Pyodide)",
      "language": "python"
    },
    "language_info": {
      "codemirror_mode": {
        "name": "ipython",
        "version": 3
      },
      "file_extension": ".py",
      "mimetype": "text/x-python",
      "name": "python",
      "nbconvert_exporter": "python",
      "pygments_lexer": "ipython3",
      "version": "3.10.9"
    }
  },
  "nbformat_minor": 5,
  "nbformat": 4,
  "cells": [
    {
      "cell_type": "markdown",
      "source": "## Fanction ",
      "metadata": {},
      "id": "037c73ac-0d86-4d5a-ac97-b8163844f2c7"
    },
    {
      "cell_type": "markdown",
      "source": "- Write a function that takes two numbers as arguments and returns their sum.",
      "metadata": {},
      "id": "9ddbbe12-2784-4faa-9799-8ba9e7fb71e4"
    },
    {
      "cell_type": "code",
      "source": "def summ(x, y):\n    x = float(input(\"please inter the first number : \"))\n    y = float(input(\"please inter the second number : \"))\n    z = x + y\n    print(\"the sum. of the numbers is = \" + str(z))",
      "metadata": {
        "trusted": true
      },
      "execution_count": null,
      "outputs": [],
      "id": "029a5666-3416-4670-9644-a19b5fd88d26"
    },
    {
      "cell_type": "code",
      "source": "",
      "metadata": {},
      "execution_count": null,
      "outputs": [],
      "id": "f7e0881d-061d-410e-9208-0c4dcd6f0e9a"
    },
    {
      "cell_type": "markdown",
      "source": "- Write a function that takes a list of numbers as an argument and returns the sum of those numbers.",
      "metadata": {},
      "id": "c6c90bb5-b251-407e-b13a-4c3a320f20ac"
    },
    {
      "cell_type": "code",
      "source": "def sol(x):\n    z = 0\n    for i in x:\n        z += i\n    print(\"the sum. of th list is = \" + str(z))",
      "metadata": {},
      "execution_count": null,
      "outputs": [],
      "id": "13e36074-9d7d-4c6d-9652-71c37a63b20c"
    },
    {
      "cell_type": "code",
      "source": "",
      "metadata": {},
      "execution_count": null,
      "outputs": [],
      "id": "f8a90255-14a2-45e5-a265-646a13fd4167"
    },
    {
      "cell_type": "markdown",
      "source": "- Write a function that takes a string as an argument and returns the length of that string.",
      "metadata": {},
      "id": "5b13316d-6e99-40cc-8e20-c1cef178b500"
    },
    {
      "cell_type": "code",
      "source": "def los(x):\n    y = len(x)\n    print(\"the length of the string is = \" + str(y))",
      "metadata": {},
      "execution_count": null,
      "outputs": [],
      "id": "faf27133-fcec-4fb1-8ee5-33fe55d782ad"
    },
    {
      "cell_type": "code",
      "source": "",
      "metadata": {},
      "execution_count": null,
      "outputs": [],
      "id": "4b8a74e0-55d3-483b-ad65-092cd3433a77"
    },
    {
      "cell_type": "markdown",
      "source": "- Write a function that takes a list of strings as an argument and returns the length of the longest string in the list.",
      "metadata": {},
      "id": "4f940a21-5052-4cf3-85ed-ec3f0b757f55"
    },
    {
      "cell_type": "code",
      "source": "def longest_of_list(x):\n    z = max(x, key=len)\n    print(\"the longest item is \" + z + \" and its length is = \" + str(len(z)))",
      "metadata": {},
      "execution_count": null,
      "outputs": [],
      "id": "5ad1b6ba-f2a0-4cd2-ab9e-daf2ee67f102"
    },
    {
      "cell_type": "code",
      "source": "",
      "metadata": {},
      "execution_count": null,
      "outputs": [],
      "id": "23530052-32c9-43d9-9368-6bcd08689995"
    },
    {
      "cell_type": "markdown",
      "source": "- Write a function that takes a list of numbers as an argument and returns the average of those numbers.",
      "metadata": {},
      "id": "c32bc5e5-da6a-4fc1-b634-84f58974b6a8"
    },
    {
      "cell_type": "code",
      "source": "def avrg(x):\n    l, y = len(x), 0\n    for i in x:\n        y += i\n    z = y / l\n    print(\"the average of the list is = \" + str(z))",
      "metadata": {},
      "execution_count": null,
      "outputs": [],
      "id": "e2a2b96f-1918-494a-bda5-47d1d5027249"
    },
    {
      "cell_type": "code",
      "source": "",
      "metadata": {},
      "execution_count": null,
      "outputs": [],
      "id": "e1ad7d48-cb7a-4393-8c6a-96bb4354ebed"
    },
    {
      "cell_type": "markdown",
      "source": "- Write a function that takes a string as an argument and returns True if the string is a palindrome (reads the same forwards and backwards) and False otherwise.",
      "metadata": {},
      "id": "c389e500-46ee-40f6-9c57-17a0649edc63"
    },
    {
      "cell_type": "code",
      "source": "def palindrome(x):\n    y=x[::-1]\n    if y==x:\n        print(\"true\")\n    else:\n        print(\"false\")",
      "metadata": {},
      "execution_count": null,
      "outputs": [],
      "id": "d03a375f-5718-4858-b42c-8b05b5f3f5e1"
    },
    {
      "cell_type": "code",
      "source": "",
      "metadata": {
        "tags": []
      },
      "execution_count": null,
      "outputs": [],
      "id": "7f4cc590-1d95-4619-8451-eaebd27132ea"
    },
    {
      "cell_type": "markdown",
      "source": "- Write a function that takes a list of numbers as an argument and returns a new list containing only the even numbers from the original list.",
      "metadata": {},
      "id": "6572eb4a-7322-4def-b606-896135c22124"
    },
    {
      "cell_type": "code",
      "source": "def even(x):\n    y = [i for i in x if i % 2 == 0]\n    print(\"the even numbers of the list are \"+str(y))",
      "metadata": {},
      "execution_count": null,
      "outputs": [],
      "id": "52a9054a-f8fc-4fa6-b94e-0623a0f7093e"
    },
    {
      "cell_type": "code",
      "source": "",
      "metadata": {},
      "execution_count": null,
      "outputs": [],
      "id": "c8c91a17-7c46-48b6-ae79-cc6bdb94bf8b"
    },
    {
      "cell_type": "markdown",
      "source": "- Write a function that takes a list of numbers as an argument and returns a new list containing the squares of those numbers.",
      "metadata": {},
      "id": "1ba77608-13ac-4dd4-9aa3-322cc099e485"
    },
    {
      "cell_type": "code",
      "source": "def list_of_square(x):\n    y=[]\n    for i in x:\n        y.append(i**2)\n    print(\"the new list of squares is : \"+str(y))",
      "metadata": {},
      "execution_count": null,
      "outputs": [],
      "id": "1e2e22ef-86bd-4f40-af4a-8f2951e2ccbf"
    },
    {
      "cell_type": "code",
      "source": "",
      "metadata": {},
      "execution_count": null,
      "outputs": [],
      "id": "c8e84052-20e3-4031-88bf-a984b4f58063"
    }
  ]
}